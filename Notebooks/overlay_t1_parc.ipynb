{
 "cells": [
  {
   "cell_type": "code",
   "execution_count": 6,
   "metadata": {},
   "outputs": [
    {
     "name": "stdout",
     "output_type": "stream",
     "text": [
      "210312-17:02:43,887 nipype.utils WARNING:\n",
      "\t A newer version (1.5.1) of nipy/nipype is available. You are using 1.5.0\n"
     ]
    }
   ],
   "source": [
    "# Imports\n",
    "import os\n",
    "import getpass\n",
    "\n",
    "import numpy\n",
    "\n",
    "import nipype\n",
    "import nibabel\n",
    "import jinja2\n",
    "\n",
    "import nipype.interfaces.io as nio\n",
    "\n",
    "\n",
    "from nipype.interfaces.base import BaseInterface\n",
    "from nipype.interfaces.utility import IdentityInterface\n",
    "\n",
    "from nipype.interfaces.base import BaseInterfaceInputSpec, File, TraitedSpec, traits\n",
    "from nipype import Node, Function, Workflow\n",
    "from nipype.interfaces.io import BIDSDataGrabber\n",
    "from nilearn.plotting import plot_roi\n",
    "from nilearn import image\n",
    "from bids.layout import BIDSLayout\n",
    "from nipype.pipeline import engine as pe\n",
    "\n",
    "from matplotlib import pyplot as plt\n",
    "from os.path import join\n",
    "from bids.tests import get_test_data_path"
   ]
  },
  {
   "cell_type": "code",
   "execution_count": 2,
   "metadata": {},
   "outputs": [],
   "source": [
    "user = getpass.getuser()\n",
    "\n",
    "if user == 'ari':\n",
    "    bids_ds_path = '/Volumes/SSD-Bercows/Joan/research/0_data/DS001_BIDS_andres/'\n",
    "\n",
    "if user == 'andres':\n",
    "    bids_ds_path = '/home/andres/Desktop/BIDS/DS001_BIDS_andres/'\n",
    "\n",
    "deriv_cmp_dir = join(bids_ds_path, \"derivatives\", \"cmp\")\n",
    "deriv_nipype_dir = join(bids_ds_path, \"nipype\", \"sub-01\", \"ses-01\")"
   ]
  },
  {
   "cell_type": "code",

   "execution_count": 3,
   "metadata": {},
   "outputs": [],
   "source": [
    "class OverlayT1wAtlasInputSpec(BaseInterfaceInputSpec):\n",
    "    \n",

    "    atlas_file = traits.List(exists=True, mandatory=True, desc='atlas file') # Do not set exists=True !!\n",
    "    t1w_file = traits.List(exists=True, mandatory=True, desc='t1w file')\n",
    "\n",
    "    \n",
    "class OverlayT1wAtlasOutputSpec(TraitedSpec):\n",
    "    fig_file = File(desc='png overlay')\n",
    "    \n",
    "    \n",
    "\n",
    "class OverlayT1wAtlas(BaseInterface):\n",
    "    input_spec = OverlayT1wAtlasInputSpec\n",
    "    output_spec = OverlayT1wAtlasOutputSpec\n",
    "    \n",
    "    def _run_interface(self, runtime):\n",
    "\n",
    "        # Call our python code here:\n",
    "        self.fig_file = self._overlay_t1w_parcellation(\n",
    "            self.inputs.t1w_file,\n",
    "            self.inputs.atlas_file\n",
    "        )\n",
    "\n",
    "        # And we are done\n",
    "        return runtime\n",
    "    \n",
    "    def _overlay_t1w_parcellation(self, t1w_path, atlas_path):\n",
    "        \n",
    "\n",
    "        t1w_image = nibabel.load(t1w_path[0])\n",
    "\n",
    "        parcellation = 'scale5'\n",
    "                \n",
    "        roi_path_selected = [elem for elem in atlas_path if parcellation in elem]\n",
    "        roi_image = nibabel.load(roi_path_selected[0])\n",
    "\n",

    "        output_file = bids_ds_path + 'derivatives/nipype/sub-01/overlay.png'\n",
    "        fig_file = plot_roi(roi_image, t1w_image, output_file = output_file)\n",
    "        \n",
    "        return output_file\n",
    "    \n",
    "    def _list_outputs(self):\n",
    "        outputs = self._outputs().get()\n",
    "        outputs['fig_file'] = self.fig_file\n",
    "        return outputs"
   ]
  },
  {
   "cell_type": "code",

   "execution_count": 4,

   "metadata": {},
   "outputs": [],
   "source": [
    "class ReportInputSpec(BaseInterfaceInputSpec):\n",
    "    fig_file = File(desc='png overlay')\n",
    "\n",
    "    \n",
    "class ReportOutputSpec(TraitedSpec):\n",
    "    report_file = File(desc='HTML report file')\n",
    "    \n",
    "\n",
    "class Report(BaseInterface):\n",
    "    input_spec = ReportInputSpec\n",
    "    #output_spec = ReportOutputSpec\n",
    "    \n",
    "    def _run_interface(self, runtime):\n",
    "        \n",
    "        # Call our python code here:\n",
    "        self.fig_file = self._generate_html(\n",
    "            self.inputs.fig_file\n",
    "        )\n",
    "        \n",
    "        # And we are done\n",
    "        return runtime\n",
    "    \n",
    "    def _generate_html(self, fig_file):\n",
    "        print(\"Llego!\")\n",
    "        title = 'Hi this is my title'\n",
    "        outputfile = '/home/andres/Desktop/BIDS/automatedHTML/myfile.html'\n",
    "        subs = jinja2.Environment(\n",
    "                      loader=jinja2.FileSystemLoader('/home/andres/Desktop/BIDS/automatedHTML/templates')\n",
    "                      ).get_template('template.html').render(title=title,figure=fig_file)\n",
    "        # lets write the substitution to a file\n",
    "        with open(outputfile,'w') as f: f.write(subs)"
   ]
  },
  {
   "cell_type": "code",
   "execution_count": 5,
   "metadata": {},
   "outputs": [],
   "source": [
    "bg = Node(BIDSDataGrabber(index_derivatives=True), name='bids-grabber')\n",
    "bg.inputs.base_dir = bids_ds_path\n",
    "\n",
    "bg.inputs.subject = '01'\n",
    "\n",
    "bg.inputs.output_query = {'atlas': {'scope': 'Connectome Mapper',\n",
    "                                  'suffix': 'atlas',\n",
    "                                  'extensions': ['nii.gz']},\n",
    "                         't1w': {'scope': 'Connectome Mapper',\n",
    "                                  'suffix': 'T1w',\n",
    "                                  'extensions': ['nii.gz']},\n",
    "                         }\n",
    "\n",
    "overlay = Node(OverlayT1wAtlas(), name='overlay_fig')\n",
    "report = Node(Report(), name='report')\n",
    "datasink = pe.Node(nio.DataSink(), name='sinker')\n",

    "datasink.inputs.base_directory = deriv_nipype_dir"

   ]
  },
  {
   "cell_type": "code",

   "execution_count": 6,
   "metadata": {},
   "outputs": [
    {
     "name": "stdout",
     "output_type": "stream",
     "text": [

      "210312-17:02:45,205 nipype.workflow INFO:\n",
      "\t Workflow overlay_workflow settings: ['check', 'execution', 'logging', 'monitoring']\n",
      "210312-17:02:45,212 nipype.workflow INFO:\n",
      "\t Running serially.\n",
      "210312-17:02:45,213 nipype.workflow INFO:\n",
      "\t [Node] Setting-up \"overlay_workflow.bids-grabber\" in \"/tmp/tmpkkgxve8h/overlay_workflow/bids-grabber\".\n",
      "210312-17:02:45,217 nipype.workflow INFO:\n",
      "\t [Node] Running \"bids-grabber\" (\"nipype.interfaces.io.BIDSDataGrabber\")\n",
      "210312-17:02:45,932 nipype.workflow INFO:\n",
      "\t [Node] Finished \"overlay_workflow.bids-grabber\".\n",
      "210312-17:02:45,933 nipype.workflow INFO:\n",
      "\t [Node] Setting-up \"overlay_workflow.overlay_fig\" in \"/tmp/tmpwhp_d_59/overlay_workflow/overlay_fig\".\n",
      "210312-17:02:45,937 nipype.workflow INFO:\n",
      "\t [Node] Running \"overlay_fig\" (\"__main__.OverlayT1wAtlas\")\n",
      "210312-17:02:48,25 nipype.workflow INFO:\n",
      "\t [Node] Finished \"overlay_workflow.overlay_fig\".\n",
      "210312-17:02:48,27 nipype.workflow INFO:\n",
      "\t [Node] Setting-up \"overlay_workflow.report\" in \"/tmp/tmpdrp8z346/overlay_workflow/report\".\n",
      "210312-17:02:48,30 nipype.workflow INFO:\n",
      "\t [Node] Running \"report\" (\"__main__.Report\")\n",
      "Llego!\n",
      "210312-17:02:48,35 nipype.workflow WARNING:\n",
      "\t Storing result file without outputs\n",
      "210312-17:02:48,37 nipype.workflow INFO:\n",
      "\t [Node] Finished \"overlay_workflow.report\".\n",
      "210312-17:02:48,39 nipype.workflow INFO:\n",
      "\t [Node] Setting-up \"overlay_workflow.sinker\" in \"/tmp/tmpyu1dgo1l/overlay_workflow/sinker\".\n",
      "210312-17:02:48,45 nipype.workflow INFO:\n",
      "\t [Node] Running \"sinker\" (\"nipype.interfaces.io.DataSink\")\n",
      "210312-17:02:48,53 nipype.workflow INFO:\n",
      "\t [Node] Finished \"overlay_workflow.sinker\".\n"
     ]
    },
    {
     "data": {
      "text/plain": [
       "<networkx.classes.digraph.DiGraph at 0x7fe350307fd0>"
      ]
     },
     "execution_count": 6,
     "metadata": {},
     "output_type": "execute_result"

    }
   ],
   "source": [
    "workflow = Workflow(\"overlay_workflow\")\n",
    "\n",
    "workflow.connect([(bg, overlay,\n",
    "                   [('atlas', 'atlas_file'),\n",
    "                    ('t1w','t1w_file')]\n",
    "                  )])\n",
    "workflow.connect(overlay, 'fig_file', datasink, 'fig_input')\n",
    "workflow.connect(overlay, 'fig_file', report, 'fig_file')\n",
    "\n",
    "workflow.run()"
   ]
  }
 ],
 "metadata": {
  "kernelspec": {
   "display_name": "Python 3",
   "language": "python",
   "name": "python3"
  },
  "language_info": {
   "codemirror_mode": {
    "name": "ipython",
    "version": 3
   },
   "file_extension": ".py",
   "mimetype": "text/x-python",
   "name": "python",
   "nbconvert_exporter": "python",
   "pygments_lexer": "ipython3",
   "version": "3.7.9"
  }
 },
 "nbformat": 4,
 "nbformat_minor": 4
}
