{
 "cells": [
  {
   "cell_type": "code",
   "execution_count": 8,
   "metadata": {},
   "outputs": [],
   "source": [
    "# Imports\n",
    "import os\n",
    "import getpass\n",
    "\n",
    "import numpy\n",
    "\n",
    "import nipype\n",
    "import nibabel\n",
    "from nilearn.plotting import plot_roi\n",
    "from nilearn import image\n",
    "from nipype.interfaces.io import BIDSDataGrabber\n",
    "from bids.layout import BIDSLayout\n",
    "from nipype.pipeline import engine as pe\n",
    "\n",
    "from matplotlib import pyplot as plt\n",
    "from os.path import join\n",
    "from bids.tests import get_test_data_path"
   ]
  },
  {
   "cell_type": "code",
   "execution_count": 9,
   "metadata": {},
   "outputs": [],
   "source": [
    "user = getpass.getuser()\n",
    "\n",
    "if user == 'ari':\n",
    "    bids_ds_path = '/Volumes/SSD-Bercows/Joan/research/0_data/Sample_Multi-Modal_BIDS_dataset/ds-sample/'\n",
    "\n",
    "if user == 'andres':\n",
    "    bids_ds_path = '/home/andres/Desktop/BIDS/DS001_BIDS_andres/'\n",
    "    #deriv_dir = \n",
    "\n",
    "deriv_cmp_dir = join(bids_ds_path, \"derivatives\", \"cmp\")\n",
    "deriv_nipype_dir = join(bids_ds_path, \"nipype\", \"sub-01\", \"ses-01\")"
   ]
  },
  {
   "cell_type": "code",
   "execution_count": 9,
   "metadata": {
    "scrolled": true
   },
   "outputs": [
    {
     "name": "stdout",
     "output_type": "stream",
     "text": [
      "/home/andres/Desktop/BIDS/Datos/ds-sample [error opening dir]\r\n",
      "\r\n",
      "0 directories, 0 files\r\n"
     ]
    }
   ],
   "source": [
    "if user == 'ari':\n",
    "    !tree -L 4 /Volumes/SSD-Bercows/Joan/research/0_data/Sample_Multi-Modal_BIDS_dataset/ds-sample/\n",
    "\n",
    "if user == 'andres':\n",
    "    !tree -L 4 /home/andres/Desktop/BIDS/Datos/ds-sample"
   ]
  },
  {
   "cell_type": "code",
   "execution_count": 63,
   "metadata": {},
   "outputs": [
    {
     "name": "stdout",
     "output_type": "stream",
     "text": [
      "210305-16:10:57,833 nipype.workflow INFO:\n",
      "\t [Node] Setting-up \"bids-grabber\" in \"/tmp/tmpn9oxcl62/bids-grabber\".\n",
      "210305-16:10:57,836 nipype.workflow INFO:\n",
      "\t [Node] Running \"bids-grabber\" (\"nipype.interfaces.io.BIDSDataGrabber\")\n",
      "210305-16:10:58,290 nipype.workflow INFO:\n",
      "\t [Node] Finished \"bids-grabber\".\n"
     ]
    }
   ],
   "source": [
    "from nipype import Node, Function, Workflow\n",
    "from nipype.interfaces.io import BIDSDataGrabber\n",
    "bg = Node(BIDSDataGrabber(index_derivatives=True), name='bids-grabber')\n",
    "bg.inputs.base_dir = bids_ds_path\n",
    "\n",
    "bg.inputs.subject = '01'\n",
    "\n",
    "bg.inputs.output_query = {'atlas': {'scope': 'Connectome Mapper',\n",
    "                                  'suffix': 'atlas',\n",
    "                                  'extensions': ['nii.gz']},\n",
    "                         't1w': {'scope': 'Connectome Mapper',\n",
    "                                  'suffix': 'T1w',\n",
    "                                  'extensions': ['nii.gz']},\n",
    "                         }\n",
    "\n",
    "res = bg.run()"
   ]
  },
  {
   "cell_type": "code",
   "execution_count": 64,
   "metadata": {},
   "outputs": [
    {
     "data": {
      "text/plain": [
       "\n",
       "atlas = ['/home/andres/Desktop/BIDS/DS001_BIDS_andres/derivatives/cmp/sub-01/anat/sub-01_label-L2008_desc-scale1_atlas.nii.gz', '/home/andres/Desktop/BIDS/DS001_BIDS_andres/derivatives/cmp/sub-01/anat/sub-01_label-L2008_desc-scale2_atlas.nii.gz', '/home/andres/Desktop/BIDS/DS001_BIDS_andres/derivatives/cmp/sub-01/anat/sub-01_label-L2008_desc-scale3_atlas.nii.gz', '/home/andres/Desktop/BIDS/DS001_BIDS_andres/derivatives/cmp/sub-01/anat/sub-01_label-L2008_desc-scale4_atlas.nii.gz', '/home/andres/Desktop/BIDS/DS001_BIDS_andres/derivatives/cmp/sub-01/anat/sub-01_label-L2008_desc-scale5_atlas.nii.gz', '/home/andres/Desktop/BIDS/DS001_BIDS_andres/derivatives/cmp/sub-01/anat/sub-01_space-DWI_label-L2008_desc-scale1_atlas.nii.gz', '/home/andres/Desktop/BIDS/DS001_BIDS_andres/derivatives/cmp/sub-01/anat/sub-01_space-DWI_label-L2008_desc-scale2_atlas.nii.gz', '/home/andres/Desktop/BIDS/DS001_BIDS_andres/derivatives/cmp/sub-01/anat/sub-01_space-DWI_label-L2008_desc-scale3_atlas.nii.gz', '/home/andres/Desktop/BIDS/DS001_BIDS_andres/derivatives/cmp/sub-01/anat/sub-01_space-DWI_label-L2008_desc-scale4_atlas.nii.gz', '/home/andres/Desktop/BIDS/DS001_BIDS_andres/derivatives/cmp/sub-01/anat/sub-01_space-DWI_label-L2008_desc-scale5_atlas.nii.gz']\n",
       "t1w = ['/home/andres/Desktop/BIDS/DS001_BIDS_andres/derivatives/cmp/sub-01/anat/sub-01_desc-brain_T1w.nii.gz', '/home/andres/Desktop/BIDS/DS001_BIDS_andres/derivatives/cmp/sub-01/anat/sub-01_desc-cmp_T1w.nii.gz', '/home/andres/Desktop/BIDS/DS001_BIDS_andres/derivatives/cmp/sub-01/anat/sub-01_desc-head_T1w.nii.gz', '/home/andres/Desktop/BIDS/DS001_BIDS_andres/derivatives/cmp/sub-01/anat/sub-01_space-DWI_desc-brain_T1w.nii.gz', '/home/andres/Desktop/BIDS/DS001_BIDS_andres/derivatives/cmp/sub-01/anat/sub-01_space-DWI_desc-head_T1w.nii.gz']"
      ]
     },
     "execution_count": 64,
     "metadata": {},
     "output_type": "execute_result"
    }
   ],
   "source": [
    "res.outputs"
   ]
  },
  {
   "cell_type": "code",
   "execution_count": 85,
   "metadata": {},
   "outputs": [],
   "source": [
    "# Import Node and Function module\n",
    "import nipype.interfaces.io as nio\n",
    "from nipype.interfaces.utility import IdentityInterface\n",
    "\n",
    "from nipype.interfaces.base import BaseInterfaceInputSpec, File, TraitedSpec\n",
    "\n",
    "\n",
    "class OverlayT1wAtlasInputSpec(BaseInterfaceInputSpec):\n",
    "    atlas_file = File(exists=True, mandatory=True, desc='atlas file') # Do not set exists=True !!\n",
    "    t1w_file = File(exists=True, mandatory=True, desc='t1w file')\n",
    "\n",
    "    \n",
    "class OverlayT1wAtlasOutputSpec(TraitedSpec):\n",
    "    fig_file = File(desc='png overlay')\n",
    "    \n",
    "    \n",
    "from nipype.interfaces.base import BaseInterface\n",
    "\n",
    "class OverlayT1wAtlas(BaseInterface):\n",
    "    input_spec = OverlayT1wAtlasInputSpec\n",
    "    output_spec = OverlayT1wAtlasOutputSpec\n",
    "    \n",
    "    def _run_interface(self, runtime):\n",
    "\n",
    "        # Call our python code here:\n",
    "        overlay_t1w_parcellation(\n",
    "            self.inputs.t1w_file,\n",
    "            self.inputs.atlas_file\n",
    "        )\n",
    "\n",
    "        # And we are done\n",
    "        return runtime\n",
    "    \n",
    "    def _overlay_t1w_parcellation(t1w_path, atlas_path):\n",
    "        \n",
    "        t1w_image = nibabel.load(t1w_path[0])\n",
    "        print(t1w_path[0])\n",
    "        parcellation = 'scale5'\n",
    "        \n",
    "        roi_path_selected = [elem for elem in roi_path if parcellation in elem]\n",
    "        roi_image = nibabel.load(roi_path_selected[0])\n",
    "\n",
    "        fig = plot_roi(roi_image, t1w_image)\n",
    "        return fig\n",
    "    \n",
    "    def _list_outputs(self):\n",
    "        outputs = self._outputs().get()\n",
    "        outputs['fig_file'] = self.fig_file\n",
    "        return outputs\n",
    "\n",
    "\n",
    "# Create a small example function\n",
    "#def overlay_t1w_parcellation(subject, parcellation):\n",
    "#    t1w_path = layout.get(datatype=\"anat\", suffix=\"T1w\", subject=subject, return_type=\"file\", extension=[\"nii\", \"nii.gz\"])\n",
    "#    roi_path = layout.get(datatype=\"anat\", scope=\"derivatives\", suffix=\"atlas\", subject=subject, return_type=\"file\", extension=\"nii.gz\")\n",
    "#    \n",
    "#    t1w_image = nibabel.load(t1w_path[0])\n",
    "#    \n",
    "#    roi_path_selected = [elem for elem in roi_path if parcellation in elem]\n",
    "#    print(roi_path_selected)\n",
    "#    roi_image = nibabel.load(roi_path_selected[0])\n",
    "#    \n",
    "#    fig = plot_roi(roi_image, t1w_image)\n",
    "#    print(type(fig))\n",
    "#    return fig"
   ]
  },
  {
   "cell_type": "code",
   "execution_count": 86,
   "metadata": {},
   "outputs": [],
   "source": [
    "overlay = Node(OverlayT1wAtlas(), name='overlay_fig')"
   ]
  },
  {
   "cell_type": "code",
   "execution_count": 87,
   "metadata": {},
   "outputs": [],
   "source": [
    "datasink = pe.Node(nio.DataSink(), name='sinker')\n",
    "datasink.inputs.base_directory = deriv_nipype_dir\n",
    "workflow = Workflow(\"overlay_workflow\")\n",
    "#workflow.connect(overlay, 'subject_id', datasink, 'container')"
   ]
  },
  {
   "cell_type": "code",
   "execution_count": 88,
   "metadata": {},
   "outputs": [],
   "source": [
    "workflow.connect([(bg, overlay,\n",
    "                   [('atlas', 'atlas_file'),\n",
    "                    ('t1w','t1w_file')]\n",
    "                  )])\n",
    "workflow.connect(overlay, 'fig_file', datasink, 'fig_input')"
   ]
  },
  {
   "cell_type": "code",
   "execution_count": 89,
   "metadata": {},
   "outputs": [
    {
     "name": "stdout",
     "output_type": "stream",
     "text": [
      "210305-16:38:11,479 nipype.workflow INFO:\n",
      "\t Workflow overlay_workflow settings: ['check', 'execution', 'logging', 'monitoring']\n",
      "210305-16:38:11,486 nipype.workflow INFO:\n",
      "\t Running serially.\n",
      "210305-16:38:11,487 nipype.workflow INFO:\n",
      "\t [Node] Setting-up \"overlay_workflow.bids-grabber\" in \"/tmp/tmpn9oxcl62/bids-grabber\".\n",
      "210305-16:38:11,491 nipype.workflow INFO:\n",
      "\t [Node] Running \"bids-grabber\" (\"nipype.interfaces.io.BIDSDataGrabber\")\n",
      "210305-16:38:12,51 nipype.workflow INFO:\n",
      "\t [Node] Finished \"overlay_workflow.bids-grabber\".\n",
      "210305-16:38:12,52 nipype.workflow INFO:\n",
      "\t [Node] Setting-up \"overlay_workflow.overlay_fig\" in \"/tmp/tmp4qdva5ys/overlay_workflow/overlay_fig\".\n",
      "210305-16:38:12,117 nipype.workflow ERROR:\n",
      "\t Node overlay_fig failed to run on host andres-VirtualBox.\n",
      "210305-16:38:12,118 nipype.workflow ERROR:\n",
      "\t Saving crash info to /home/andres/Desktop/BIDS/cmp3-dev/Notebooks/crash-20210305-163812-andres-overlay_fig-fefe2131-5ee2-4fa1-9246-e613bc2db410.pklz\n",
      "Traceback (most recent call last):\n",
      "  File \"/home/andres/miniconda3/envs/py37cmp-gui/lib/python3.7/site-packages/nipype/interfaces/base/traits_extension.py\", line 129, in validate\n",
      "    value = Path(value)  # Use pathlib's validation\n",
      "  File \"/home/andres/miniconda3/envs/py37cmp-gui/lib/python3.7/pathlib.py\", line 1022, in __new__\n",
      "    self = cls._from_parts(args, init=False)\n",
      "  File \"/home/andres/miniconda3/envs/py37cmp-gui/lib/python3.7/pathlib.py\", line 669, in _from_parts\n",
      "    drv, root, parts = self._parse_args(args)\n",
      "  File \"/home/andres/miniconda3/envs/py37cmp-gui/lib/python3.7/pathlib.py\", line 653, in _parse_args\n",
      "    a = os.fspath(a)\n",
      "TypeError: expected str, bytes or os.PathLike object, not list\n",
      "\n",
      "During handling of the above exception, another exception occurred:\n",
      "\n",
      "Traceback (most recent call last):\n",
      "  File \"/home/andres/miniconda3/envs/py37cmp-gui/lib/python3.7/site-packages/nipype/pipeline/plugins/linear.py\", line 46, in run\n",
      "    node.run(updatehash=updatehash)\n",
      "  File \"/home/andres/miniconda3/envs/py37cmp-gui/lib/python3.7/site-packages/nipype/pipeline/engine/nodes.py\", line 486, in run\n",
      "    self._get_hashval()\n",
      "  File \"/home/andres/miniconda3/envs/py37cmp-gui/lib/python3.7/site-packages/nipype/pipeline/engine/nodes.py\", line 538, in _get_hashval\n",
      "    self._get_inputs()\n",
      "  File \"/home/andres/miniconda3/envs/py37cmp-gui/lib/python3.7/site-packages/nipype/pipeline/engine/nodes.py\", line 609, in _get_inputs\n",
      "    self.set_input(key, deepcopy(output_value))\n",
      "  File \"/home/andres/miniconda3/envs/py37cmp-gui/lib/python3.7/site-packages/nipype/pipeline/engine/nodes.py\", line 302, in set_input\n",
      "    setattr(self.inputs, parameter, deepcopy(val))\n",
      "  File \"/home/andres/miniconda3/envs/py37cmp-gui/lib/python3.7/site-packages/nipype/interfaces/base/traits_extension.py\", line 330, in validate\n",
      "    value = super(File, self).validate(objekt, name, value, return_pathlike=True)\n",
      "  File \"/home/andres/miniconda3/envs/py37cmp-gui/lib/python3.7/site-packages/nipype/interfaces/base/traits_extension.py\", line 131, in validate\n",
      "    self.error(objekt, name, str(value))\n",
      "  File \"/home/andres/miniconda3/envs/py37cmp-gui/lib/python3.7/site-packages/traits/base_trait_handler.py\", line 77, in error\n",
      "    object, name, self.full_info(object, name, value), value\n",
      "traits.trait_errors.TraitError: The 'atlas_file' trait of an OverlayT1wAtlasInputSpec instance must be a pathlike object or string representing an existing file, but a value of \"['/home/andres/Desktop/BIDS/DS001_BIDS_andres/derivatives/cmp/sub-01/anat/sub-01_label-L2008_desc-scale1_atlas.nii.gz', '/home/andres/Desktop/BIDS/DS001_BIDS_andres/derivatives/cmp/sub-01/anat/sub-01_label-L2008_desc-scale2_atlas.nii.gz', '/home/andres/Desktop/BIDS/DS001_BIDS_andres/derivatives/cmp/sub-01/anat/sub-01_label-L2008_desc-scale3_atlas.nii.gz', '/home/andres/Desktop/BIDS/DS001_BIDS_andres/derivatives/cmp/sub-01/anat/sub-01_label-L2008_desc-scale4_atlas.nii.gz', '/home/andres/Desktop/BIDS/DS001_BIDS_andres/derivatives/cmp/sub-01/anat/sub-01_label-L2008_desc-scale5_atlas.nii.gz', '/home/andres/Desktop/BIDS/DS001_BIDS_andres/derivatives/cmp/sub-01/anat/sub-01_space-DWI_label-L2008_desc-scale1_atlas.nii.gz', '/home/andres/Desktop/BIDS/DS001_BIDS_andres/derivatives/cmp/sub-01/anat/sub-01_space-DWI_label-L2008_desc-scale2_atlas.nii.gz', '/home/andres/Desktop/BIDS/DS001_BIDS_andres/derivatives/cmp/sub-01/anat/sub-01_space-DWI_label-L2008_desc-scale3_atlas.nii.gz', '/home/andres/Desktop/BIDS/DS001_BIDS_andres/derivatives/cmp/sub-01/anat/sub-01_space-DWI_label-L2008_desc-scale4_atlas.nii.gz', '/home/andres/Desktop/BIDS/DS001_BIDS_andres/derivatives/cmp/sub-01/anat/sub-01_space-DWI_label-L2008_desc-scale5_atlas.nii.gz']\" <class 'str'> was specified.\n",
      "\n",
      "Error setting node input:\n",
      "Node: overlay_fig\n",
      "input: atlas_file\n",
      "results_file: /tmp/tmpn9oxcl62/bids-grabber/result_bids-grabber.pklz\n",
      "value: ['/home/andres/Desktop/BIDS/DS001_BIDS_andres/derivatives/cmp/sub-01/anat/sub-01_label-L2008_desc-scale1_atlas.nii.gz', '/home/andres/Desktop/BIDS/DS001_BIDS_andres/derivatives/cmp/sub-01/anat/sub-01_label-L2008_desc-scale2_atlas.nii.gz', '/home/andres/Desktop/BIDS/DS001_BIDS_andres/derivatives/cmp/sub-01/anat/sub-01_label-L2008_desc-scale3_atlas.nii.gz', '/home/andres/Desktop/BIDS/DS001_BIDS_andres/derivatives/cmp/sub-01/anat/sub-01_label-L2008_desc-scale4_atlas.nii.gz', '/home/andres/Desktop/BIDS/DS001_BIDS_andres/derivatives/cmp/sub-01/anat/sub-01_label-L2008_desc-scale5_atlas.nii.gz', '/home/andres/Desktop/BIDS/DS001_BIDS_andres/derivatives/cmp/sub-01/anat/sub-01_space-DWI_label-L2008_desc-scale1_atlas.nii.gz', '/home/andres/Desktop/BIDS/DS001_BIDS_andres/derivatives/cmp/sub-01/anat/sub-01_space-DWI_label-L2008_desc-scale2_atlas.nii.gz', '/home/andres/Desktop/BIDS/DS001_BIDS_andres/derivatives/cmp/sub-01/anat/sub-01_space-DWI_label-L2008_desc-scale3_atlas.nii.gz', '/home/andres/Desktop/BIDS/DS001_BIDS_andres/derivatives/cmp/sub-01/anat/sub-01_space-DWI_label-L2008_desc-scale4_atlas.nii.gz', '/home/andres/Desktop/BIDS/DS001_BIDS_andres/derivatives/cmp/sub-01/anat/sub-01_space-DWI_label-L2008_desc-scale5_atlas.nii.gz']\n",
      "\n",
      "\n",
      "When creating this crashfile, the results file corresponding\n",
      "to the node could not be found.\n",
      "210305-16:38:12,120 nipype.workflow INFO:\n",
      "\t ***********************************\n",
      "210305-16:38:12,121 nipype.workflow ERROR:\n",
      "\t could not run node: overlay_workflow.overlay_fig\n",
      "210305-16:38:12,123 nipype.workflow INFO:\n",
      "\t crashfile: /home/andres/Desktop/BIDS/cmp3-dev/Notebooks/crash-20210305-163812-andres-overlay_fig-fefe2131-5ee2-4fa1-9246-e613bc2db410.pklz\n",
      "210305-16:38:12,124 nipype.workflow INFO:\n",
      "\t ***********************************\n"
     ]
    },
    {
     "ename": "RuntimeError",
     "evalue": "Workflow did not execute cleanly. Check log for details",
     "output_type": "error",
     "traceback": [
      "\u001b[0;31m---------------------------------------------------------------------------\u001b[0m",
      "\u001b[0;31mRuntimeError\u001b[0m                              Traceback (most recent call last)",
      "\u001b[0;32m<ipython-input-89-b078e04690fb>\u001b[0m in \u001b[0;36m<module>\u001b[0;34m\u001b[0m\n\u001b[0;32m----> 1\u001b[0;31m \u001b[0mworkflow\u001b[0m\u001b[0;34m.\u001b[0m\u001b[0mrun\u001b[0m\u001b[0;34m(\u001b[0m\u001b[0;34m)\u001b[0m\u001b[0;34m\u001b[0m\u001b[0;34m\u001b[0m\u001b[0m\n\u001b[0m",
      "\u001b[0;32m~/miniconda3/envs/py37cmp-gui/lib/python3.7/site-packages/nipype/pipeline/engine/workflows.py\u001b[0m in \u001b[0;36mrun\u001b[0;34m(self, plugin, plugin_args, updatehash)\u001b[0m\n\u001b[1;32m    630\u001b[0m         \u001b[0;32mif\u001b[0m \u001b[0mstr2bool\u001b[0m\u001b[0;34m(\u001b[0m\u001b[0mself\u001b[0m\u001b[0;34m.\u001b[0m\u001b[0mconfig\u001b[0m\u001b[0;34m[\u001b[0m\u001b[0;34m\"execution\"\u001b[0m\u001b[0;34m]\u001b[0m\u001b[0;34m[\u001b[0m\u001b[0;34m\"create_report\"\u001b[0m\u001b[0;34m]\u001b[0m\u001b[0;34m)\u001b[0m\u001b[0;34m:\u001b[0m\u001b[0;34m\u001b[0m\u001b[0;34m\u001b[0m\u001b[0m\n\u001b[1;32m    631\u001b[0m             \u001b[0mself\u001b[0m\u001b[0;34m.\u001b[0m\u001b[0m_write_report_info\u001b[0m\u001b[0;34m(\u001b[0m\u001b[0mself\u001b[0m\u001b[0;34m.\u001b[0m\u001b[0mbase_dir\u001b[0m\u001b[0;34m,\u001b[0m \u001b[0mself\u001b[0m\u001b[0;34m.\u001b[0m\u001b[0mname\u001b[0m\u001b[0;34m,\u001b[0m \u001b[0mexecgraph\u001b[0m\u001b[0;34m)\u001b[0m\u001b[0;34m\u001b[0m\u001b[0;34m\u001b[0m\u001b[0m\n\u001b[0;32m--> 632\u001b[0;31m         \u001b[0mrunner\u001b[0m\u001b[0;34m.\u001b[0m\u001b[0mrun\u001b[0m\u001b[0;34m(\u001b[0m\u001b[0mexecgraph\u001b[0m\u001b[0;34m,\u001b[0m \u001b[0mupdatehash\u001b[0m\u001b[0;34m=\u001b[0m\u001b[0mupdatehash\u001b[0m\u001b[0;34m,\u001b[0m \u001b[0mconfig\u001b[0m\u001b[0;34m=\u001b[0m\u001b[0mself\u001b[0m\u001b[0;34m.\u001b[0m\u001b[0mconfig\u001b[0m\u001b[0;34m)\u001b[0m\u001b[0;34m\u001b[0m\u001b[0;34m\u001b[0m\u001b[0m\n\u001b[0m\u001b[1;32m    633\u001b[0m         \u001b[0mdatestr\u001b[0m \u001b[0;34m=\u001b[0m \u001b[0mdatetime\u001b[0m\u001b[0;34m.\u001b[0m\u001b[0mutcnow\u001b[0m\u001b[0;34m(\u001b[0m\u001b[0;34m)\u001b[0m\u001b[0;34m.\u001b[0m\u001b[0mstrftime\u001b[0m\u001b[0;34m(\u001b[0m\u001b[0;34m\"%Y%m%dT%H%M%S\"\u001b[0m\u001b[0;34m)\u001b[0m\u001b[0;34m\u001b[0m\u001b[0;34m\u001b[0m\u001b[0m\n\u001b[1;32m    634\u001b[0m         \u001b[0;32mif\u001b[0m \u001b[0mstr2bool\u001b[0m\u001b[0;34m(\u001b[0m\u001b[0mself\u001b[0m\u001b[0;34m.\u001b[0m\u001b[0mconfig\u001b[0m\u001b[0;34m[\u001b[0m\u001b[0;34m\"execution\"\u001b[0m\u001b[0;34m]\u001b[0m\u001b[0;34m[\u001b[0m\u001b[0;34m\"write_provenance\"\u001b[0m\u001b[0;34m]\u001b[0m\u001b[0;34m)\u001b[0m\u001b[0;34m:\u001b[0m\u001b[0;34m\u001b[0m\u001b[0;34m\u001b[0m\u001b[0m\n",
      "\u001b[0;32m~/miniconda3/envs/py37cmp-gui/lib/python3.7/site-packages/nipype/pipeline/plugins/linear.py\u001b[0m in \u001b[0;36mrun\u001b[0;34m(self, graph, config, updatehash)\u001b[0m\n\u001b[1;32m     68\u001b[0m \u001b[0;34m\u001b[0m\u001b[0m\n\u001b[1;32m     69\u001b[0m         \u001b[0mos\u001b[0m\u001b[0;34m.\u001b[0m\u001b[0mchdir\u001b[0m\u001b[0;34m(\u001b[0m\u001b[0mold_wd\u001b[0m\u001b[0;34m)\u001b[0m  \u001b[0;31m# Return wherever we were before\u001b[0m\u001b[0;34m\u001b[0m\u001b[0;34m\u001b[0m\u001b[0m\n\u001b[0;32m---> 70\u001b[0;31m         \u001b[0mreport_nodes_not_run\u001b[0m\u001b[0;34m(\u001b[0m\u001b[0mnotrun\u001b[0m\u001b[0;34m)\u001b[0m\u001b[0;34m\u001b[0m\u001b[0;34m\u001b[0m\u001b[0m\n\u001b[0m",
      "\u001b[0;32m~/miniconda3/envs/py37cmp-gui/lib/python3.7/site-packages/nipype/pipeline/plugins/tools.py\u001b[0m in \u001b[0;36mreport_nodes_not_run\u001b[0;34m(notrun)\u001b[0m\n\u001b[1;32m     96\u001b[0m         \u001b[0mlogger\u001b[0m\u001b[0;34m.\u001b[0m\u001b[0minfo\u001b[0m\u001b[0;34m(\u001b[0m\u001b[0;34m\"***********************************\"\u001b[0m\u001b[0;34m)\u001b[0m\u001b[0;34m\u001b[0m\u001b[0;34m\u001b[0m\u001b[0m\n\u001b[1;32m     97\u001b[0m         raise RuntimeError(\n\u001b[0;32m---> 98\u001b[0;31m             \u001b[0;34m(\u001b[0m\u001b[0;34m\"Workflow did not execute cleanly. \"\u001b[0m \u001b[0;34m\"Check log for details\"\u001b[0m\u001b[0;34m)\u001b[0m\u001b[0;34m\u001b[0m\u001b[0;34m\u001b[0m\u001b[0m\n\u001b[0m\u001b[1;32m     99\u001b[0m         )\n\u001b[1;32m    100\u001b[0m \u001b[0;34m\u001b[0m\u001b[0m\n",
      "\u001b[0;31mRuntimeError\u001b[0m: Workflow did not execute cleanly. Check log for details"
     ]
    }
   ],
   "source": [
    "workflow.run()"
   ]
  },
  {
   "cell_type": "code",
   "execution_count": null,
   "metadata": {},
   "outputs": [],
   "source": [
    "datasink"
   ]
  },
  {
   "cell_type": "code",
   "execution_count": null,
   "metadata": {},
   "outputs": [],
   "source": []
  }
 ],
 "metadata": {
  "kernelspec": {
   "display_name": "Python 3",
   "language": "python",
   "name": "python3"
  },
  "language_info": {
   "codemirror_mode": {
    "name": "ipython",
    "version": 3
   },
   "file_extension": ".py",
   "mimetype": "text/x-python",
   "name": "python",
   "nbconvert_exporter": "python",
   "pygments_lexer": "ipython3",
   "version": "3.7.7"
  }
 },
 "nbformat": 4,
 "nbformat_minor": 4
}
