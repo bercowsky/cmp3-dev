{
 "cells": [
  {
   "cell_type": "code",
   "execution_count": 1,
   "metadata": {},
   "outputs": [
    {
     "name": "stdout",
     "output_type": "stream",
     "text": [
      "210326-16:48:46,19 nipype.utils WARNING:\n",
      "\t A newer version (1.5.1) of nipy/nipype is available. You are using 1.5.0\n"
     ]
    }
   ],
   "source": [
    "# Imports\n",
    "import os\n",
    "import getpass\n",
    "\n",
    "import numpy as np\n",
    "\n",
    "import nipype\n",
    "import nibabel\n",
    "import jinja2\n",
    "import dipy.io.streamline as dis\n",
    "\n",
    "import nipype.interfaces.io as nio\n",
    "import dipy.io.streamline as dis\n",
    "import os\n",
    "\n",
    "\n",
    "from nipype.interfaces.base import BaseInterface\n",
    "from nipype.interfaces.utility import IdentityInterface\n",
    "from dipy.viz import window, actor\n",
    "\n",
    "from nipype.interfaces.base import BaseInterfaceInputSpec, File, TraitedSpec, traits\n",
    "from nipype import Node, Function, Workflow\n",
    "from nipype.interfaces.io import BIDSDataGrabber\n",
    "from nilearn.plotting import plot_roi\n",
    "from nilearn import image\n",
    "from bids.layout import BIDSLayout\n",
    "from nipype.pipeline import engine as pe\n",
    "\n",
    "from matplotlib import pyplot as plt\n",
    "from os.path import join\n",
    "from bids.tests import get_test_data_path"
   ]
  },
  {
   "cell_type": "code",
   "execution_count": 8,
   "metadata": {},
   "outputs": [],
   "source": [
    "user = getpass.getuser()\n",
    "\n",
    "if user == 'ari':\n",
    "    bids_ds_path = '/Volumes/SSD-Bercows/Joan/research/0_data/Sample_Multi-Modal_BIDS_dataset/ds-sample/'\n",
    "\n",
    "if user == 'andres':\n",
    "    bids_ds_path = '/home/andres/Desktop/BIDS/DS001_BIDS_andres/'\n",
    "\n",
    "deriv_cmp_dir = join(bids_ds_path, \"derivatives\", \"cmp\")\n",
    "deriv_nipype_dir = join(bids_ds_path, \"nipype\", \"sub-01\", \"ses-01\")"
   ]
  },
  {
   "cell_type": "code",
   "execution_count": 2,
   "metadata": {},
   "outputs": [],
   "source": [
    "class TractographyPlotInputSpec(BaseInterfaceInputSpec):\n",
    "    trk_file = traits.List(exists=True, mandatory=True, desc='trk file')\n",
    "\n",
    "    \n",
    "class TractographyPlotOutputSpec(TraitedSpec):\n",
    "    fig_file = traits.List(desc='png tractography')\n",
    "    \n",
    "    \n",
    "\n",
    "class TractographyPlot(BaseInterface):\n",
    "    input_spec = TractographyPlotInputSpec\n",
    "    output_spec = TractographyPlotOutputSpec\n",
    "    \n",
    "    def _run_interface(self, runtime):\n",
    "\n",
    "        # Call our python code here:\n",
    "        self.fig_file = self._tractography_plot(\n",
    "            self.inputs.trk_file[0]\n",
    "        )\n",
    "\n",
    "        # And we are done\n",
    "        return runtime\n",
    "    \n",
    "    def _tractography_plot(self, trk_path):\n",
    "\n",
    "        trk_image = dis.load_trk(trk_path,trk_path)\n",
    "\n",
    "        n_spag = len(trk_image.streamlines)\n",
    "        ids = np.random.permutation(n_spag)[:int(n_spag*0.01)]\n",
    "        streamlines = trk_image.streamlines[ids]\n",
    "\n",
    "        scene = window.Scene()\n",
    "\n",
    "        stream_actor = actor.line(streamlines)\n",
    "\n",
    "        scene.set_camera(position=(-176.42, 118.52, 128.20),\n",
    "                         focal_point=(113.30, 128.31, 76.56),\n",
    "                         view_up=(0.18, 0.00, 0.98))\n",
    "\n",
    "        scene.add(stream_actor)\n",
    "        \n",
    "        output_file = bids_ds_path + 'derivatives/nipype/sub-01/tractography.png'\n",
    "\n",
    "        # Uncomment the line below to show to display the window\n",
    "        # window.show(scene, size=(600, 600), reset_camera=False)\n",
    "        window.record(scene, out_path=output_file, size=(2400, 2400))\n",
    "        \n",
    "        \n",
    "        return output_file\n",
    "    \n",
    "    def _list_outputs(self):\n",
    "        outputs = self._outputs().get()\n",
    "        outputs['fig_file'] = self.fig_file\n",
    "        return outputs"
   ]
  },
  {
   "cell_type": "code",
   "execution_count": 4,
   "metadata": {},
   "outputs": [],
   "source": [
    "trk_path = '/home/andres/Desktop/BIDS/DS001_BIDS_andres/derivatives/cmp/sub-01/dwi/sub-01_model-CSD_desc-DET_tractogram.trk'\n",
    "trk_image = dis.load_trk('/home/andres/Desktop/BIDS/DS001_BIDS_andres/derivatives/cmp/sub-01/dwi/sub-01_model-CSD_desc-DET_tractogram.trk', trk_path)"
   ]
  },
  {
   "cell_type": "code",
   "execution_count": 3,
   "metadata": {},
   "outputs": [],
   "source": [
    "class ReportInputSpec(BaseInterfaceInputSpec):\n",
    "    fig_file = traits.List(desc='png overlay')\n",
    "\n",
    "    \n",
    "class ReportOutputSpec(TraitedSpec):\n",
    "    report_file = File(desc='HTML report file')\n",
    "    \n",
    "\n",
    "class Report(BaseInterface):\n",
    "    input_spec = ReportInputSpec\n",
    "    #output_spec = ReportOutputSpec\n",
    "    \n",
    "    def _run_interface(self, runtime):\n",
    "        \n",
    "        # Call our python code here:\n",
    "        self.fig_file = self._generate_html(\n",
    "            self.inputs.fig_file\n",
    "        )\n",
    "        \n",
    "        # And we are done\n",
    "        return runtime\n",
    "    \n",
    "    def _generate_html(self, fig_file):\n",
    "        title = 'Hi this is my title'\n",
    "        outputfile = '/home/andres/Desktop/BIDS/automatedHTML/report_segmentation.html'\n",
    "        \n",
    "        my_images = []\n",
    "        for image in fig_file:\n",
    "            my_images.append([image, image.split('/')[-1].split('.')[-2]])\n",
    "            \n",
    "        subs = jinja2.Environment(\n",
    "                      loader=jinja2.FileSystemLoader('/home/andres/Desktop/BIDS/automatedHTML/templates')\n",
    "                      ).get_template('template_segmentation.html').render(title=title,mydata=my_images)\n",
    "        # lets write the substitution to a file\n",
    "        with open(outputfile,'w') as f: f.write(subs)"
   ]
  },
  {
   "cell_type": "code",
   "execution_count": 10,
   "metadata": {},
   "outputs": [],
   "source": [
    "bg = Node(BIDSDataGrabber(index_derivatives=True), name='bids-grabber')\n",
    "bg.inputs.base_dir = bids_ds_path\n",
    "\n",
    "bg.inputs.subject = '01'\n",
    "\n",
    "bg.inputs.output_query = {'TRK': {'scope': 'Connectome Mapper',\n",
    "                                  'model': 'CSD',\n",
    "                                  'desc': 'DET',\n",
    "                                  'sufix': 'tractogram',\n",
    "                                  'extensions': ['trk']}\n",
    "                         }"
   ]
  },
  {
   "cell_type": "code",
   "execution_count": 11,
   "metadata": {},
   "outputs": [],
   "source": [
    "overlay = Node(TractographyPlot(), name='tractography_fig')\n",
    "report = Node(Report(), name='report')\n",
    "datasink = pe.Node(nio.DataSink(), name='sinker')\n",
    "datasink.inputs.base_directory = deriv_nipype_dir"
   ]
  },
  {
   "cell_type": "code",
   "execution_count": 12,
   "metadata": {},
   "outputs": [
    {
     "name": "stdout",
     "output_type": "stream",
     "text": [
      "210326-16:50:07,606 nipype.workflow INFO:\n",
      "\t Workflow tractography_workflow settings: ['check', 'execution', 'logging', 'monitoring']\n",
      "210326-16:50:07,806 nipype.workflow INFO:\n",
      "\t Running serially.\n",
      "210326-16:50:07,807 nipype.workflow INFO:\n",
      "\t [Node] Setting-up \"tractography_workflow.bids-grabber\" in \"/tmp/tmpxhothp5m/tractography_workflow/bids-grabber\".\n",
      "210326-16:50:07,824 nipype.workflow INFO:\n",
      "\t [Node] Running \"bids-grabber\" (\"nipype.interfaces.io.BIDSDataGrabber\")\n",
      "210326-16:50:09,541 nipype.workflow INFO:\n",
      "\t [Node] Finished \"tractography_workflow.bids-grabber\".\n",
      "210326-16:50:09,542 nipype.workflow INFO:\n",
      "\t [Node] Setting-up \"tractography_workflow.tractography_fig\" in \"/tmp/tmp9u6lswrj/tractography_workflow/tractography_fig\".\n",
      "210326-16:50:09,546 nipype.workflow INFO:\n",
      "\t [Node] Running \"tractography_fig\" (\"__main__.TractographyPlot\")\n",
      "210326-16:50:17,664 nipype.workflow WARNING:\n",
      "\t Storing result file without outputs\n"
     ]
    },
    {
     "name": "stderr",
     "output_type": "stream",
     "text": [
      "WARNING:nipype.workflow:Storing result file without outputs\n"
     ]
    },
    {
     "name": "stdout",
     "output_type": "stream",
     "text": [
      "210326-16:50:17,665 nipype.workflow WARNING:\n",
      "\t [Node] Error on \"tractography_workflow.tractography_fig\" (/tmp/tmp9u6lswrj/tractography_workflow/tractography_fig)\n"
     ]
    },
    {
     "name": "stderr",
     "output_type": "stream",
     "text": [
      "WARNING:nipype.workflow:[Node] Error on \"tractography_workflow.tractography_fig\" (/tmp/tmp9u6lswrj/tractography_workflow/tractography_fig)\n"
     ]
    },
    {
     "name": "stdout",
     "output_type": "stream",
     "text": [
      "210326-16:50:17,667 nipype.workflow ERROR:\n",
      "\t Node tractography_fig failed to run on host andres-VirtualBox.\n"
     ]
    },
    {
     "name": "stderr",
     "output_type": "stream",
     "text": [
      "ERROR:nipype.workflow:Node tractography_fig failed to run on host andres-VirtualBox.\n"
     ]
    },
    {
     "name": "stdout",
     "output_type": "stream",
     "text": [
      "210326-16:50:17,668 nipype.workflow ERROR:\n",
      "\t Saving crash info to /home/andres/Desktop/BIDS/cmp3-dev/Notebooks/crash-20210326-165017-andres-tractography_fig-7a1433f2-3b42-4be1-b24d-58e288dd77a2.pklz\n",
      "Traceback (most recent call last):\n",
      "  File \"/home/andres/miniconda3/envs/py37cmp-gui/lib/python3.7/site-packages/nipype/pipeline/plugins/linear.py\", line 46, in run\n",
      "    node.run(updatehash=updatehash)\n",
      "  File \"/home/andres/miniconda3/envs/py37cmp-gui/lib/python3.7/site-packages/nipype/pipeline/engine/nodes.py\", line 516, in run\n",
      "    result = self._run_interface(execute=True)\n",
      "  File \"/home/andres/miniconda3/envs/py37cmp-gui/lib/python3.7/site-packages/nipype/pipeline/engine/nodes.py\", line 635, in _run_interface\n",
      "    return self._run_command(execute)\n",
      "  File \"/home/andres/miniconda3/envs/py37cmp-gui/lib/python3.7/site-packages/nipype/pipeline/engine/nodes.py\", line 741, in _run_command\n",
      "    result = self._interface.run(cwd=outdir)\n",
      "  File \"/home/andres/miniconda3/envs/py37cmp-gui/lib/python3.7/site-packages/nipype/interfaces/base/core.py\", line 399, in run\n",
      "    outputs = self.aggregate_outputs(runtime)\n",
      "  File \"/home/andres/miniconda3/envs/py37cmp-gui/lib/python3.7/site-packages/nipype/interfaces/base/core.py\", line 508, in aggregate_outputs\n",
      "    raise error\n",
      "  File \"/home/andres/miniconda3/envs/py37cmp-gui/lib/python3.7/site-packages/nipype/interfaces/base/core.py\", line 500, in aggregate_outputs\n",
      "    setattr(outputs, key, val)\n",
      "  File \"/home/andres/miniconda3/envs/py37cmp-gui/lib/python3.7/site-packages/traits/trait_types.py\", line 2363, in validate\n",
      "    self.error(object, name, value)\n",
      "  File \"/home/andres/miniconda3/envs/py37cmp-gui/lib/python3.7/site-packages/traits/base_trait_handler.py\", line 77, in error\n",
      "    object, name, self.full_info(object, name, value), value\n",
      "traits.trait_errors.TraitError: The 'fig_file' trait of a TractographyPlotOutputSpec instance must be a list of items which are any value, but a value of '/home/andres/Desktop/BIDS/DS001_BIDS_andres/derivatives/nipype/sub-01/tractography.png' <class 'str'> was specified.\n",
      "\n"
     ]
    },
    {
     "name": "stderr",
     "output_type": "stream",
     "text": [
      "ERROR:nipype.workflow:Saving crash info to /home/andres/Desktop/BIDS/cmp3-dev/Notebooks/crash-20210326-165017-andres-tractography_fig-7a1433f2-3b42-4be1-b24d-58e288dd77a2.pklz\n",
      "Traceback (most recent call last):\n",
      "  File \"/home/andres/miniconda3/envs/py37cmp-gui/lib/python3.7/site-packages/nipype/pipeline/plugins/linear.py\", line 46, in run\n",
      "    node.run(updatehash=updatehash)\n",
      "  File \"/home/andres/miniconda3/envs/py37cmp-gui/lib/python3.7/site-packages/nipype/pipeline/engine/nodes.py\", line 516, in run\n",
      "    result = self._run_interface(execute=True)\n",
      "  File \"/home/andres/miniconda3/envs/py37cmp-gui/lib/python3.7/site-packages/nipype/pipeline/engine/nodes.py\", line 635, in _run_interface\n",
      "    return self._run_command(execute)\n",
      "  File \"/home/andres/miniconda3/envs/py37cmp-gui/lib/python3.7/site-packages/nipype/pipeline/engine/nodes.py\", line 741, in _run_command\n",
      "    result = self._interface.run(cwd=outdir)\n",
      "  File \"/home/andres/miniconda3/envs/py37cmp-gui/lib/python3.7/site-packages/nipype/interfaces/base/core.py\", line 399, in run\n",
      "    outputs = self.aggregate_outputs(runtime)\n",
      "  File \"/home/andres/miniconda3/envs/py37cmp-gui/lib/python3.7/site-packages/nipype/interfaces/base/core.py\", line 508, in aggregate_outputs\n",
      "    raise error\n",
      "  File \"/home/andres/miniconda3/envs/py37cmp-gui/lib/python3.7/site-packages/nipype/interfaces/base/core.py\", line 500, in aggregate_outputs\n",
      "    setattr(outputs, key, val)\n",
      "  File \"/home/andres/miniconda3/envs/py37cmp-gui/lib/python3.7/site-packages/traits/trait_types.py\", line 2363, in validate\n",
      "    self.error(object, name, value)\n",
      "  File \"/home/andres/miniconda3/envs/py37cmp-gui/lib/python3.7/site-packages/traits/base_trait_handler.py\", line 77, in error\n",
      "    object, name, self.full_info(object, name, value), value\n",
      "traits.trait_errors.TraitError: The 'fig_file' trait of a TractographyPlotOutputSpec instance must be a list of items which are any value, but a value of '/home/andres/Desktop/BIDS/DS001_BIDS_andres/derivatives/nipype/sub-01/tractography.png' <class 'str'> was specified.\n",
      "\n"
     ]
    },
    {
     "name": "stdout",
     "output_type": "stream",
     "text": [
      "210326-16:50:17,688 nipype.workflow INFO:\n",
      "\t ***********************************\n"
     ]
    },
    {
     "name": "stderr",
     "output_type": "stream",
     "text": [
      "INFO:nipype.workflow:***********************************\n"
     ]
    },
    {
     "name": "stdout",
     "output_type": "stream",
     "text": [
      "210326-16:50:17,689 nipype.workflow ERROR:\n",
      "\t could not run node: tractography_workflow.tractography_fig\n"
     ]
    },
    {
     "name": "stderr",
     "output_type": "stream",
     "text": [
      "ERROR:nipype.workflow:could not run node: tractography_workflow.tractography_fig\n"
     ]
    },
    {
     "name": "stdout",
     "output_type": "stream",
     "text": [
      "210326-16:50:17,690 nipype.workflow INFO:\n",
      "\t crashfile: /home/andres/Desktop/BIDS/cmp3-dev/Notebooks/crash-20210326-165017-andres-tractography_fig-7a1433f2-3b42-4be1-b24d-58e288dd77a2.pklz\n"
     ]
    },
    {
     "name": "stderr",
     "output_type": "stream",
     "text": [
      "INFO:nipype.workflow:crashfile: /home/andres/Desktop/BIDS/cmp3-dev/Notebooks/crash-20210326-165017-andres-tractography_fig-7a1433f2-3b42-4be1-b24d-58e288dd77a2.pklz\n"
     ]
    },
    {
     "name": "stdout",
     "output_type": "stream",
     "text": [
      "210326-16:50:17,691 nipype.workflow INFO:\n",
      "\t ***********************************\n"
     ]
    },
    {
     "name": "stderr",
     "output_type": "stream",
     "text": [
      "INFO:nipype.workflow:***********************************\n"
     ]
    },
    {
     "ename": "RuntimeError",
     "evalue": "Workflow did not execute cleanly. Check log for details",
     "output_type": "error",
     "traceback": [
      "\u001b[0;31m---------------------------------------------------------------------------\u001b[0m",
      "\u001b[0;31mRuntimeError\u001b[0m                              Traceback (most recent call last)",
      "\u001b[0;32m<ipython-input-12-2a459d17165d>\u001b[0m in \u001b[0;36m<module>\u001b[0;34m\u001b[0m\n\u001b[1;32m      7\u001b[0m \u001b[0mworkflow\u001b[0m\u001b[0;34m.\u001b[0m\u001b[0mconnect\u001b[0m\u001b[0;34m(\u001b[0m\u001b[0moverlay\u001b[0m\u001b[0;34m,\u001b[0m \u001b[0;34m'fig_file'\u001b[0m\u001b[0;34m,\u001b[0m \u001b[0mreport\u001b[0m\u001b[0;34m,\u001b[0m \u001b[0;34m'fig_file'\u001b[0m\u001b[0;34m)\u001b[0m\u001b[0;34m\u001b[0m\u001b[0;34m\u001b[0m\u001b[0m\n\u001b[1;32m      8\u001b[0m \u001b[0;34m\u001b[0m\u001b[0m\n\u001b[0;32m----> 9\u001b[0;31m \u001b[0mworkflow\u001b[0m\u001b[0;34m.\u001b[0m\u001b[0mrun\u001b[0m\u001b[0;34m(\u001b[0m\u001b[0;34m)\u001b[0m\u001b[0;34m\u001b[0m\u001b[0;34m\u001b[0m\u001b[0m\n\u001b[0m",
      "\u001b[0;32m~/miniconda3/envs/py37cmp-gui/lib/python3.7/site-packages/nipype/pipeline/engine/workflows.py\u001b[0m in \u001b[0;36mrun\u001b[0;34m(self, plugin, plugin_args, updatehash)\u001b[0m\n\u001b[1;32m    630\u001b[0m         \u001b[0;32mif\u001b[0m \u001b[0mstr2bool\u001b[0m\u001b[0;34m(\u001b[0m\u001b[0mself\u001b[0m\u001b[0;34m.\u001b[0m\u001b[0mconfig\u001b[0m\u001b[0;34m[\u001b[0m\u001b[0;34m\"execution\"\u001b[0m\u001b[0;34m]\u001b[0m\u001b[0;34m[\u001b[0m\u001b[0;34m\"create_report\"\u001b[0m\u001b[0;34m]\u001b[0m\u001b[0;34m)\u001b[0m\u001b[0;34m:\u001b[0m\u001b[0;34m\u001b[0m\u001b[0;34m\u001b[0m\u001b[0m\n\u001b[1;32m    631\u001b[0m             \u001b[0mself\u001b[0m\u001b[0;34m.\u001b[0m\u001b[0m_write_report_info\u001b[0m\u001b[0;34m(\u001b[0m\u001b[0mself\u001b[0m\u001b[0;34m.\u001b[0m\u001b[0mbase_dir\u001b[0m\u001b[0;34m,\u001b[0m \u001b[0mself\u001b[0m\u001b[0;34m.\u001b[0m\u001b[0mname\u001b[0m\u001b[0;34m,\u001b[0m \u001b[0mexecgraph\u001b[0m\u001b[0;34m)\u001b[0m\u001b[0;34m\u001b[0m\u001b[0;34m\u001b[0m\u001b[0m\n\u001b[0;32m--> 632\u001b[0;31m         \u001b[0mrunner\u001b[0m\u001b[0;34m.\u001b[0m\u001b[0mrun\u001b[0m\u001b[0;34m(\u001b[0m\u001b[0mexecgraph\u001b[0m\u001b[0;34m,\u001b[0m \u001b[0mupdatehash\u001b[0m\u001b[0;34m=\u001b[0m\u001b[0mupdatehash\u001b[0m\u001b[0;34m,\u001b[0m \u001b[0mconfig\u001b[0m\u001b[0;34m=\u001b[0m\u001b[0mself\u001b[0m\u001b[0;34m.\u001b[0m\u001b[0mconfig\u001b[0m\u001b[0;34m)\u001b[0m\u001b[0;34m\u001b[0m\u001b[0;34m\u001b[0m\u001b[0m\n\u001b[0m\u001b[1;32m    633\u001b[0m         \u001b[0mdatestr\u001b[0m \u001b[0;34m=\u001b[0m \u001b[0mdatetime\u001b[0m\u001b[0;34m.\u001b[0m\u001b[0mutcnow\u001b[0m\u001b[0;34m(\u001b[0m\u001b[0;34m)\u001b[0m\u001b[0;34m.\u001b[0m\u001b[0mstrftime\u001b[0m\u001b[0;34m(\u001b[0m\u001b[0;34m\"%Y%m%dT%H%M%S\"\u001b[0m\u001b[0;34m)\u001b[0m\u001b[0;34m\u001b[0m\u001b[0;34m\u001b[0m\u001b[0m\n\u001b[1;32m    634\u001b[0m         \u001b[0;32mif\u001b[0m \u001b[0mstr2bool\u001b[0m\u001b[0;34m(\u001b[0m\u001b[0mself\u001b[0m\u001b[0;34m.\u001b[0m\u001b[0mconfig\u001b[0m\u001b[0;34m[\u001b[0m\u001b[0;34m\"execution\"\u001b[0m\u001b[0;34m]\u001b[0m\u001b[0;34m[\u001b[0m\u001b[0;34m\"write_provenance\"\u001b[0m\u001b[0;34m]\u001b[0m\u001b[0;34m)\u001b[0m\u001b[0;34m:\u001b[0m\u001b[0;34m\u001b[0m\u001b[0;34m\u001b[0m\u001b[0m\n",
      "\u001b[0;32m~/miniconda3/envs/py37cmp-gui/lib/python3.7/site-packages/nipype/pipeline/plugins/linear.py\u001b[0m in \u001b[0;36mrun\u001b[0;34m(self, graph, config, updatehash)\u001b[0m\n\u001b[1;32m     68\u001b[0m \u001b[0;34m\u001b[0m\u001b[0m\n\u001b[1;32m     69\u001b[0m         \u001b[0mos\u001b[0m\u001b[0;34m.\u001b[0m\u001b[0mchdir\u001b[0m\u001b[0;34m(\u001b[0m\u001b[0mold_wd\u001b[0m\u001b[0;34m)\u001b[0m  \u001b[0;31m# Return wherever we were before\u001b[0m\u001b[0;34m\u001b[0m\u001b[0;34m\u001b[0m\u001b[0m\n\u001b[0;32m---> 70\u001b[0;31m         \u001b[0mreport_nodes_not_run\u001b[0m\u001b[0;34m(\u001b[0m\u001b[0mnotrun\u001b[0m\u001b[0;34m)\u001b[0m\u001b[0;34m\u001b[0m\u001b[0;34m\u001b[0m\u001b[0m\n\u001b[0m",
      "\u001b[0;32m~/miniconda3/envs/py37cmp-gui/lib/python3.7/site-packages/nipype/pipeline/plugins/tools.py\u001b[0m in \u001b[0;36mreport_nodes_not_run\u001b[0;34m(notrun)\u001b[0m\n\u001b[1;32m     96\u001b[0m         \u001b[0mlogger\u001b[0m\u001b[0;34m.\u001b[0m\u001b[0minfo\u001b[0m\u001b[0;34m(\u001b[0m\u001b[0;34m\"***********************************\"\u001b[0m\u001b[0;34m)\u001b[0m\u001b[0;34m\u001b[0m\u001b[0;34m\u001b[0m\u001b[0m\n\u001b[1;32m     97\u001b[0m         raise RuntimeError(\n\u001b[0;32m---> 98\u001b[0;31m             \u001b[0;34m(\u001b[0m\u001b[0;34m\"Workflow did not execute cleanly. \"\u001b[0m \u001b[0;34m\"Check log for details\"\u001b[0m\u001b[0;34m)\u001b[0m\u001b[0;34m\u001b[0m\u001b[0;34m\u001b[0m\u001b[0m\n\u001b[0m\u001b[1;32m     99\u001b[0m         )\n\u001b[1;32m    100\u001b[0m \u001b[0;34m\u001b[0m\u001b[0m\n",
      "\u001b[0;31mRuntimeError\u001b[0m: Workflow did not execute cleanly. Check log for details"
     ]
    }
   ],
   "source": [
    "workflow = Workflow(\"tractography_workflow\")\n",
    "\n",
    "workflow.connect([(bg, overlay,\n",
    "                   [('TRK','trk_file')]\n",
    "                  )])\n",
    "workflow.connect(overlay, 'fig_file', datasink, 'fig_input')\n",
    "workflow.connect(overlay, 'fig_file', report, 'fig_file')\n",
    "\n",
    "workflow.run()"
   ]
  },
  {
   "cell_type": "code",
   "execution_count": null,
   "metadata": {},
   "outputs": [],
   "source": []
  }
 ],
 "metadata": {
  "kernelspec": {
   "display_name": "Python 3",
   "language": "python",
   "name": "python3"
  },
  "language_info": {
   "codemirror_mode": {
    "name": "ipython",
    "version": 3
   },
   "file_extension": ".py",
   "mimetype": "text/x-python",
   "name": "python",
   "nbconvert_exporter": "python",
   "pygments_lexer": "ipython3",
   "version": "3.7.7"
  }
 },
 "nbformat": 4,
 "nbformat_minor": 4
}
